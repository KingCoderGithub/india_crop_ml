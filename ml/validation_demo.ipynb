{
 "cells": [
  {
   "cell_type": "code",
   "execution_count": null,
   "metadata": {},
   "outputs": [],
   "source": [
    "from sklearn.metrics import f1_score, classification_report\n",
    "import pandas as pd\n",
    "\n",
    "df = pd.read_csv(\"predictions.csv\")  # columns: parcel_id, true_label, pred_label\n",
    "f1_macro = f1_score(df.true_label, df.pred_label, average='macro')\n",
    "print(\"Macro-F1:\", f1_macro)\n",
    "print(classification_report(df.true_label, df.pred_label))"
   ]
  }
 ],
 "metadata": {
  "language_info": {
   "name": "python"
  },
  "orig_nbformat": 4
 },
 "nbformat": 4,
 "nbformat_minor": 2
}
